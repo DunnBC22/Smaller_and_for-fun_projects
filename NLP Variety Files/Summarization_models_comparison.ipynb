{
 "cells": [
  {
   "cell_type": "markdown",
   "metadata": {},
   "source": [
    "# Comparison of NLP Summarization Models"
   ]
  },
  {
   "cell_type": "markdown",
   "metadata": {},
   "source": [
    "#### Dataset Source: "
   ]
  },
  {
   "cell_type": "markdown",
   "metadata": {},
   "source": [
    "#### Import Necessary Libraries"
   ]
  },
  {
   "cell_type": "code",
   "execution_count": 1,
   "metadata": {},
   "outputs": [],
   "source": [
    "from transformers import pipeline, set_seed\n",
    "from datasets import Dataset, DatasetDict, load_metric\n",
    "import nltk\n",
    "from nltk.tokenize import sent_tokenize\n",
    "import pandas as pd\n",
    "import numpy as np"
   ]
  },
  {
   "cell_type": "markdown",
   "metadata": {},
   "source": [
    "#### Download NLTK's 'punkt' Package"
   ]
  },
  {
   "cell_type": "code",
   "execution_count": 2,
   "metadata": {},
   "outputs": [
    {
     "name": "stderr",
     "output_type": "stream",
     "text": [
      "[nltk_data] Downloading package punkt to /Users/briandunn/nltk_data...\n",
      "[nltk_data]   Package punkt is already up-to-date!\n"
     ]
    },
    {
     "data": {
      "text/plain": [
       "True"
      ]
     },
     "execution_count": 2,
     "metadata": {},
     "output_type": "execute_result"
    }
   ],
   "source": [
    "nltk.download('punkt')"
   ]
  },
  {
   "cell_type": "markdown",
   "metadata": {},
   "source": [
    "### Ingest data & Split it into Train/Test/Validation Datasets"
   ]
  },
  {
   "cell_type": "code",
   "execution_count": 3,
   "metadata": {},
   "outputs": [],
   "source": [
    "data = pd.read_csv('/Users/briandunn/Documents/nlpnn/Datasets/bbc/all_data_combined.csv')\n",
    "\n",
    "# Convert pandas dataframe to a dataset\n",
    "dataset = Dataset.from_pandas(data)\n",
    "\n",
    "# Split the datasetdict into train/test/valid subsets\n",
    "train_testvalid = dataset.train_test_split(test_size=0.20)\n",
    "test_valid = train_testvalid['test'].train_test_split(test_size=0.50)\n",
    "\n",
    "# Combine the train/test/valid into one datasetdict\n",
    "dataset = DatasetDict({\n",
    "    'train' : train_testvalid['train'],\n",
    "    'test' : test_valid['test'],\n",
    "    'valid' : test_valid['train']\n",
    "})"
   ]
  },
  {
   "cell_type": "markdown",
   "metadata": {},
   "source": [
    "## Part 1: Comparison Using Rouge Metric"
   ]
  },
  {
   "cell_type": "markdown",
   "metadata": {},
   "source": [
    "# Only Use first Sample from Training Dataset"
   ]
  },
  {
   "cell_type": "code",
   "execution_count": null,
   "metadata": {},
   "outputs": [
    {
     "data": {
      "text/plain": [
       "{'Unnamed: 0': 80,\n",
       " 'Article': 'Consumer concern over RFID tags  Consumers are very concerned about the use of radio frequency ID (RFID) tags in shops, a survey says.  More than half of 2,000 people surveyed said they had privacy worries about the tags, which can be used to monitor stock on shelves or in warehouses. Some consumer groups have expressed concern that the tags could be used to monitor shoppers once they had left shops with their purchases. The survey showed that awareness of tags among consumers in Europe was low. The survey of consumers in the UK, France, Germany and the Netherlands was carried out by consultancy group Capgemini. The firm works on behalf of more than 30 firms who are seeking to promote the growth of RFID technology. The tags are a combination of computer chip and antenna which can be read by a scanner - each item contains a unique identification number.  More than half (55%) of the respondents said they were either concerned or very concerned that RFID tags would allow businesses to track consumers via product purchases. Fifty nine percent of people said they were worried that RFID tags would allow data to be used more freely by third parties. Ard Jan Vetham, Capgemini\\'s principal consultant on RFID, said the survey showed that retailers needed to inform and educate people about RFID before it would become accepted technology. \"Acceptance of new technologies always has a tipping point at which consumers believe that benefits outweigh concerns. \"With the right RFID approach and ongoing communication with consumers, the industry can reach this point.\" He said that the survey also showed people would accept RFID if they felt that the technology could mean a reduction in car theft or faster recovery of stolen items. The tags are currently being used at one Tesco distribution centre in the UK - the tags allow the rapid inventory of bulk items. They are also in use as a passcard for the M6 Toll in the Midlands, in the UK. Mr Vetham said the majority of people surveyed (52%) believed that RFID tags could be read from a distance. He said that was a misconception based on a lack of awareness of the technology. At least once consumer group - Consumers Against Supermarket Privacy Invasion and Numbering (Caspian) - has claimed that RFID chips could be used to secretly identify people and the things they are carrying or wearing. All kinds of personal belongings, including clothes, could constantly broadcast messages about their whereabouts and their owners, it warned. ',\n",
       " 'Summary': \"Mr Vetham said the majority of people surveyed (52%) believed that RFID tags could be read from a distance.He said that the survey also showed people would accept RFID if they felt that the technology could mean a reduction in car theft or faster recovery of stolen items.Fifty nine percent of people said they were worried that RFID tags would allow data to be used more freely by third parties.Ard Jan Vetham, Capgemini's principal consultant on RFID, said the survey showed that retailers needed to inform and educate people about RFID before it would become accepted technology.More than half (55%) of the respondents said they were either concerned or very concerned that RFID tags would allow businesses to track consumers via product purchases.Consumers are very concerned about the use of radio frequency ID (RFID) tags in shops, a survey says.At least once consumer group - Consumers Against Supermarket Privacy Invasion and Numbering (Caspian) - has claimed that RFID chips could be used to secretly identify people and the things they are carrying or wearing.The survey showed that awareness of tags among consumers in Europe was low.\"}"
      ]
     },
     "execution_count": 9,
     "metadata": {},
     "output_type": "execute_result"
    }
   ],
   "source": [
    "ds = dataset['train'][1]\n",
    "ds"
   ]
  },
  {
   "cell_type": "markdown",
   "metadata": {},
   "source": [
    "#### Set Baseline as First Three Sentences of Text"
   ]
  },
  {
   "cell_type": "code",
   "execution_count": null,
   "metadata": {},
   "outputs": [
    {
     "data": {
      "text/plain": [
       "{'baseline': 'Consumer concern over RFID tags  Consumers are very concerned about the use of radio frequency ID (RFID) tags in shops, a survey says.\\nMore than half of 2,000 people surveyed said they had privacy worries about the tags, which can be used to monitor stock on shelves or in warehouses.\\nSome consumer groups have expressed concern that the tags could be used to monitor shoppers once they had left shops with their purchases.'}"
      ]
     },
     "execution_count": 56,
     "metadata": {},
     "output_type": "execute_result"
    }
   ],
   "source": [
    "def first_three_lines_summary(text):\n",
    "    return '\\n'.join(sent_tokenize(text)[:3])\n",
    "\n",
    "set_seed(42)\n",
    "\n",
    "summaries_ds = {}\n",
    "summaries_ds['baseline'] = first_three_lines_summary(ds['Article'])\n",
    "\n",
    "summaries_ds"
   ]
  },
  {
   "cell_type": "markdown",
   "metadata": {},
   "source": [
    "#### GPT-2 Model"
   ]
  },
  {
   "cell_type": "code",
   "execution_count": null,
   "metadata": {},
   "outputs": [
    {
     "name": "stderr",
     "output_type": "stream",
     "text": [
      "Setting `pad_token_id` to `eos_token_id`:50256 for open-end generation.\n"
     ]
    },
    {
     "data": {
      "text/plain": [
       "\"If retailers are putting RFID chips everywhere in their shops and stores that's a good cause for concern.\\nIf RFID is to be used as a legitimate way to track prices, a scan of each item in a store should be taken before making the purchase.\\nIt may be more efficient to track items once purchased rather than after a sale and this would also prevent scanning items again unless they have been used.\""
      ]
     },
     "execution_count": 62,
     "metadata": {},
     "output_type": "execute_result"
    }
   ],
   "source": [
    "# GPT-2\n",
    "pipe = pipeline(\"text-generation\", model=\"gpt2-xl\") \n",
    "gpt2_query = ds['Article'] + \"\\nTL;DR\\n\"\n",
    "pipe_out = pipe(gpt2_query, clean_up_tokenization_spaces=True, max_new_tokens=1024)\n",
    "summaries_ds[\"gpt2\"] = \"\\n\".join(sent_tokenize(pipe_out[0][\"generated_text\"][len(gpt2_query) :]))\n",
    "summaries_ds[\"gpt2\"]"
   ]
  },
  {
   "cell_type": "markdown",
   "metadata": {},
   "source": [
    "#### T5"
   ]
  },
  {
   "cell_type": "code",
   "execution_count": null,
   "metadata": {},
   "outputs": [
    {
     "name": "stderr",
     "output_type": "stream",
     "text": [
      "Token indices sequence length is longer than the specified maximum sequence length for this model (518 > 512). Running this sequence through the model will result in indexing errors\n"
     ]
    },
    {
     "data": {
      "text/plain": [
       "'more than half of 2,000 people surveyed said they had privacy worries about the tags .\\nRFID tags can be used to monitor stock on shelves or in warehouses .\\nsurvey shows that awareness of tags among consumers in Europe is low .'"
      ]
     },
     "execution_count": 58,
     "metadata": {},
     "output_type": "execute_result"
    }
   ],
   "source": [
    "pipe = pipeline(\"summarization\", model=\"t5-large\", max_length=260, clean_up_tokenization_spaces=True) #, max_model_length=1024)\n",
    "pipe_out = pipe(ds['Article'])\n",
    "summaries_ds['t5'] = '\\n'.join(sent_tokenize(pipe_out[0][\"summary_text\"]))"
   ]
  },
  {
   "cell_type": "markdown",
   "metadata": {},
   "source": [
    "#### BART"
   ]
  },
  {
   "cell_type": "code",
   "execution_count": null,
   "metadata": {},
   "outputs": [],
   "source": [
    "pipe = pipeline(\"summarization\", model=\"facebook/bart-large-cnn\")\n",
    "pipe_out = pipe(ds['Article'])\n",
    "summaries_ds['bart'] = '\\n'.join(sent_tokenize(pipe_out[0][\"summary_text\"]))"
   ]
  },
  {
   "cell_type": "markdown",
   "metadata": {},
   "source": [
    "#### Pegasus"
   ]
  },
  {
   "cell_type": "code",
   "execution_count": null,
   "metadata": {},
   "outputs": [
    {
     "data": {
      "text/plain": [
       "'\\nWhile I really wanted to include the Pegasus transformer in this comparison, it requires a download \\nthat I am unable to download. Apparently, some hardware setups just cannot install this required\\ndownload. I have made sure to keep the code (and just comment it out).\\n'"
      ]
     },
     "execution_count": 64,
     "metadata": {},
     "output_type": "execute_result"
    }
   ],
   "source": [
    "'''\n",
    "While I really wanted to include the Pegasus transformer in this comparison, it requires a download \n",
    "that I am unable to download. Apparently, some hardware setups just cannot install this required\n",
    "download (sometimes, it is unpredictable). I have made sure to keep the code (and just comment it out).\n",
    "'''\n",
    "\n",
    "#pipe = pipeline(\"summarization\", model=\"google/pegasus-cnn_dailymail\")\n",
    "#pipe_out = pipe(ds['Article'])\n",
    "#summaries_ds['Pegasus'] = pipe_out[0][\"summary_text\"].replace(\" <n>\", \".\\n\")"
   ]
  },
  {
   "cell_type": "markdown",
   "metadata": {},
   "source": [
    "#### Print Out All Summaries Sequentially"
   ]
  },
  {
   "cell_type": "code",
   "execution_count": null,
   "metadata": {},
   "outputs": [
    {
     "name": "stdout",
     "output_type": "stream",
     "text": [
      "GROUND TRUTH\n",
      "Mr Vetham said the majority of people surveyed (52%) believed that RFID tags could be read from a distance.He said that the survey also showed people would accept RFID if they felt that the technology could mean a reduction in car theft or faster recovery of stolen items.Fifty nine percent of people said they were worried that RFID tags would allow data to be used more freely by third parties.Ard Jan Vetham, Capgemini's principal consultant on RFID, said the survey showed that retailers needed to inform and educate people about RFID before it would become accepted technology.More than half (55%) of the respondents said they were either concerned or very concerned that RFID tags would allow businesses to track consumers via product purchases.Consumers are very concerned about the use of radio frequency ID (RFID) tags in shops, a survey says.At least once consumer group - Consumers Against Supermarket Privacy Invasion and Numbering (Caspian) - has claimed that RFID chips could be used to secretly identify people and the things they are carrying or wearing.The survey showed that awareness of tags among consumers in Europe was low.\n",
      "\n",
      "BASELINE\n",
      "Consumer concern over RFID tags  Consumers are very concerned about the use of radio frequency ID (RFID) tags in shops, a survey says.\n",
      "More than half of 2,000 people surveyed said they had privacy worries about the tags, which can be used to monitor stock on shelves or in warehouses.\n",
      "Some consumer groups have expressed concern that the tags could be used to monitor shoppers once they had left shops with their purchases.\n",
      "\n",
      "GPT2\n",
      "If retailers are putting RFID chips everywhere in their shops and stores that's a good cause for concern.\n",
      "If RFID is to be used as a legitimate way to track prices, a scan of each item in a store should be taken before making the purchase.\n",
      "It may be more efficient to track items once purchased rather than after a sale and this would also prevent scanning items again unless they have been used.\n",
      "\n",
      "T5\n",
      "more than half of 2,000 people surveyed said they had privacy worries about the tags .\n",
      "RFID tags can be used to monitor stock on shelves or in warehouses .\n",
      "survey shows that awareness of tags among consumers in Europe is low .\n",
      "\n",
      "BART\n",
      "More than half of 2,000 people surveyed said they had privacy worries about the tags.\n",
      "Some consumer groups have expressed concern that the tags could be used to monitor shoppers once they had left shops with their purchases.\n",
      "The tags are a combination of computer chip and antenna which can be read by a scanner.\n",
      "\n"
     ]
    }
   ],
   "source": [
    "print(\"GROUND TRUTH\")\n",
    "print(ds['Summary'])\n",
    "print(\"\")\n",
    "\n",
    "for model_name in summaries_ds:\n",
    "    print(model_name.upper())\n",
    "    print(summaries_ds[model_name])\n",
    "    print(\"\")"
   ]
  },
  {
   "cell_type": "markdown",
   "metadata": {},
   "source": [
    "#### Model Evaluation Using Rouge Metric"
   ]
  },
  {
   "cell_type": "code",
   "execution_count": null,
   "metadata": {},
   "outputs": [
    {
     "data": {
      "text/html": [
       "<div>\n",
       "<style scoped>\n",
       "    .dataframe tbody tr th:only-of-type {\n",
       "        vertical-align: middle;\n",
       "    }\n",
       "\n",
       "    .dataframe tbody tr th {\n",
       "        vertical-align: top;\n",
       "    }\n",
       "\n",
       "    .dataframe thead th {\n",
       "        text-align: right;\n",
       "    }\n",
       "</style>\n",
       "<table border=\"1\" class=\"dataframe\">\n",
       "  <thead>\n",
       "    <tr style=\"text-align: right;\">\n",
       "      <th></th>\n",
       "      <th>rouge1</th>\n",
       "      <th>rouge2</th>\n",
       "      <th>rougeL</th>\n",
       "      <th>rougeLsum</th>\n",
       "    </tr>\n",
       "  </thead>\n",
       "  <tbody>\n",
       "    <tr>\n",
       "      <th>baseline</th>\n",
       "      <td>0.368421</td>\n",
       "      <td>0.212121</td>\n",
       "      <td>0.203008</td>\n",
       "      <td>0.285714</td>\n",
       "    </tr>\n",
       "    <tr>\n",
       "      <th>gpt2</th>\n",
       "      <td>0.040201</td>\n",
       "      <td>0.010152</td>\n",
       "      <td>0.040201</td>\n",
       "      <td>0.040201</td>\n",
       "    </tr>\n",
       "    <tr>\n",
       "      <th>t5</th>\n",
       "      <td>0.257511</td>\n",
       "      <td>0.129870</td>\n",
       "      <td>0.206009</td>\n",
       "      <td>0.214592</td>\n",
       "    </tr>\n",
       "    <tr>\n",
       "      <th>bart</th>\n",
       "      <td>0.274194</td>\n",
       "      <td>0.089431</td>\n",
       "      <td>0.145161</td>\n",
       "      <td>0.161290</td>\n",
       "    </tr>\n",
       "  </tbody>\n",
       "</table>\n",
       "</div>"
      ],
      "text/plain": [
       "            rouge1    rouge2    rougeL  rougeLsum\n",
       "baseline  0.368421  0.212121  0.203008   0.285714\n",
       "gpt2      0.040201  0.010152  0.040201   0.040201\n",
       "t5        0.257511  0.129870  0.206009   0.214592\n",
       "bart      0.274194  0.089431  0.145161   0.161290"
      ]
     },
     "execution_count": 51,
     "metadata": {},
     "output_type": "execute_result"
    }
   ],
   "source": [
    "rouge_metric = load_metric('rouge')\n",
    "\n",
    "reference = dataset['train'][1]['Summary']\n",
    "records = []\n",
    "rouge_names = [\"rouge1\", \"rouge2\", \"rougeL\", \"rougeLsum\"]\n",
    "\n",
    "for model_name in summaries_ds:\n",
    "    rouge_metric.add(prediction=summaries_ds[model_name], reference=reference)\n",
    "    score = rouge_metric.compute()\n",
    "    rouge_dict = dict((rn, score[rn].mid.fmeasure) for rn in rouge_names)\n",
    "    records.append(rouge_dict)\n",
    "pd.DataFrame.from_records(records, index=summaries_ds.keys())"
   ]
  },
  {
   "cell_type": "markdown",
   "metadata": {},
   "source": [
    "## Part 2: Applying Bleu & Rouge to Example"
   ]
  },
  {
   "cell_type": "markdown",
   "metadata": {},
   "source": [
    "#### Example 1 (Bleu)"
   ]
  },
  {
   "cell_type": "code",
   "execution_count": null,
   "metadata": {},
   "outputs": [
    {
     "data": {
      "text/html": [
       "<div>\n",
       "<style scoped>\n",
       "    .dataframe tbody tr th:only-of-type {\n",
       "        vertical-align: middle;\n",
       "    }\n",
       "\n",
       "    .dataframe tbody tr th {\n",
       "        vertical-align: top;\n",
       "    }\n",
       "\n",
       "    .dataframe thead th {\n",
       "        text-align: right;\n",
       "    }\n",
       "</style>\n",
       "<table border=\"1\" class=\"dataframe\">\n",
       "  <thead>\n",
       "    <tr style=\"text-align: right;\">\n",
       "      <th></th>\n",
       "      <th>Value</th>\n",
       "    </tr>\n",
       "  </thead>\n",
       "  <tbody>\n",
       "    <tr>\n",
       "      <th>score</th>\n",
       "      <td>27.437036</td>\n",
       "    </tr>\n",
       "    <tr>\n",
       "      <th>counts</th>\n",
       "      <td>[110, 108, 102, 97]</td>\n",
       "    </tr>\n",
       "    <tr>\n",
       "      <th>totals</th>\n",
       "      <td>[381, 380, 379, 378]</td>\n",
       "    </tr>\n",
       "    <tr>\n",
       "      <th>precisions</th>\n",
       "      <td>[28.87, 28.42, 26.91, 25.66]</td>\n",
       "    </tr>\n",
       "    <tr>\n",
       "      <th>bp</th>\n",
       "      <td>1.0</td>\n",
       "    </tr>\n",
       "    <tr>\n",
       "      <th>sys_len</th>\n",
       "      <td>381</td>\n",
       "    </tr>\n",
       "    <tr>\n",
       "      <th>ref_len</th>\n",
       "      <td>110</td>\n",
       "    </tr>\n",
       "  </tbody>\n",
       "</table>\n",
       "</div>"
      ],
      "text/plain": [
       "                                   Value\n",
       "score                          27.437036\n",
       "counts               [110, 108, 102, 97]\n",
       "totals              [381, 380, 379, 378]\n",
       "precisions  [28.87, 28.42, 26.91, 25.66]\n",
       "bp                                   1.0\n",
       "sys_len                              381\n",
       "ref_len                              110"
      ]
     },
     "execution_count": 70,
     "metadata": {},
     "output_type": "execute_result"
    }
   ],
   "source": [
    "article1 = \"\"\"Broadband fuels online expression  Fast web access is encouraging more people to express themselves online, research suggests.  \n",
    "A quarter of broadband users in Britain regularly upload content and have personal sites, according to a report by UK think-tank Demos. \n",
    "It said that having an always-on, fast connection is changing the way people use the internet. More than five million households in the UK \n",
    "have broadband and that number is growing fast.  The Demos report looked at the impact of broadband on people's net habits. It found that \n",
    "more than half of those with broadband logged on to the web before breakfast. One in five even admitted to getting up in the middle of the \n",
    "night to browse the web.  More significantly, argues the report, broadband is encouraging people to take a more active role online. It \n",
    "found that one in five post something on the net everyday, ranging from comments or opinions on sites to uploading photographs. \"Broadband \n",
    "is putting the 'me' in media as it shifts power from institutions and into the hands of the individual,\" said John Craig, co-author of the \n",
    "Demos report. \"From self-diagnosis to online education, broadband creates social innovation that moves the debate beyond simple questions \n",
    "of access and speed.\" The Demos report, entitled Broadband Britain: The End Of Asymmetry?, was commissioned by net provider AOL. \"Broadband \n",
    "is moving the perception of the internet as a piece of technology to an integral part of home life in the UK,\" said Karen Thomson, Chief \n",
    "Executive of AOL UK, \"with many people spending time on their computers as automatically as they might switch on the television or radio.\" \n",
    "According to analysts Nielsen//NetRatings, more than 50% of the 22.8 million UK net users regularly accessing the web from home each month \n",
    "are logging on at high speed They spend twice as long online than people on dial-up connections, viewing an average of 1,444 pages per month. \n",
    "The popularity of fast net access is growing, partly fuelled by fierce competition over prices and services.\"\"\"\n",
    "\n",
    "summary1 = '''More than five million households in the UK have broadband and that number is growing fast.The Demos report looked at the impact \n",
    "of broadband on people's net habits.More significantly, argues the report, broadband is encouraging people to take a more active role online.\n",
    "The Demos report, entitled Broadband Britain: The End Of Asymmetry?, was commissioned by net provider AOL.A quarter of broadband users in Britain \n",
    "regularly upload content and have personal sites, according to a report by UK think-tank Demos.Fast web access is encouraging more people to \n",
    "express themselves online, research suggests.'''\n",
    "\n",
    "bleu_metric = load_metric(\"sacrebleu\")\n",
    "\n",
    "# Run the first example here then enter the values below:\n",
    "\n",
    "bleu_metric.add(prediction=article1, reference = [summary1]) # Find an example from the eval set\n",
    "results = bleu_metric.compute(smooth_method=\"floor\", smooth_value=0)\n",
    "results['precisions'] = [np.round(p, 2) for p in results[\"precisions\"]]\n",
    "pd.DataFrame.from_dict(results, orient=\"index\", columns=[\"Value\"])"
   ]
  },
  {
   "cell_type": "markdown",
   "metadata": {},
   "source": [
    "#### Example 2 (Bleu)"
   ]
  },
  {
   "cell_type": "code",
   "execution_count": null,
   "metadata": {},
   "outputs": [
    {
     "data": {
      "text/html": [
       "<div>\n",
       "<style scoped>\n",
       "    .dataframe tbody tr th:only-of-type {\n",
       "        vertical-align: middle;\n",
       "    }\n",
       "\n",
       "    .dataframe tbody tr th {\n",
       "        vertical-align: top;\n",
       "    }\n",
       "\n",
       "    .dataframe thead th {\n",
       "        text-align: right;\n",
       "    }\n",
       "</style>\n",
       "<table border=\"1\" class=\"dataframe\">\n",
       "  <thead>\n",
       "    <tr style=\"text-align: right;\">\n",
       "      <th></th>\n",
       "      <th>Value</th>\n",
       "    </tr>\n",
       "  </thead>\n",
       "  <tbody>\n",
       "    <tr>\n",
       "      <th>score</th>\n",
       "      <td>44.486598</td>\n",
       "    </tr>\n",
       "    <tr>\n",
       "      <th>counts</th>\n",
       "      <td>[377, 371, 354, 338]</td>\n",
       "    </tr>\n",
       "    <tr>\n",
       "      <th>totals</th>\n",
       "      <td>[810, 809, 808, 807]</td>\n",
       "    </tr>\n",
       "    <tr>\n",
       "      <th>precisions</th>\n",
       "      <td>[46.54, 45.86, 43.81, 41.88]</td>\n",
       "    </tr>\n",
       "    <tr>\n",
       "      <th>bp</th>\n",
       "      <td>1.0</td>\n",
       "    </tr>\n",
       "    <tr>\n",
       "      <th>sys_len</th>\n",
       "      <td>810</td>\n",
       "    </tr>\n",
       "    <tr>\n",
       "      <th>ref_len</th>\n",
       "      <td>377</td>\n",
       "    </tr>\n",
       "  </tbody>\n",
       "</table>\n",
       "</div>"
      ],
      "text/plain": [
       "                                   Value\n",
       "score                          44.486598\n",
       "counts              [377, 371, 354, 338]\n",
       "totals              [810, 809, 808, 807]\n",
       "precisions  [46.54, 45.86, 43.81, 41.88]\n",
       "bp                                   1.0\n",
       "sys_len                              810\n",
       "ref_len                              377"
      ]
     },
     "execution_count": 71,
     "metadata": {},
     "output_type": "execute_result"
    }
   ],
   "source": [
    "article2 = '''Mobile music challenges 'iPod age'  Nokia and Microsoft have agreed a deal to work on delivery of music to handsets, while Sony \n",
    "Ericsson has unveiled its phone Walkman and Motorola is working on an iTunes phone.  Can mobile phones replace the MP3 player in your pocket? \n",
    "The music download market has been growing steadily since record firms embraced digital distribution. Ease of use, relative low price and \n",
    "increased access to broadband has helped drive the phenomenal growth of MP3 players.  Full-length music downloads on mobile phones have not \n",
    "taken off so quickly - held back by technical challenges as well as issues over music availability. But the mobile music industry is confident \n",
    "that the days of dedicated MP3 players are numbered.  Gilles Babinet, chief executive of mobile music firm Musiwave, said: \"Music downloads on \n",
    "mobiles have the potential to be the biggest-ever medium for music.\"  Musiwave provides downloading infrastructure for the mobile phone market \n",
    "and Mr Babinet said the industry was enjoying \"definite momentum.\" But there are hurdles to overcome. Mobile phones offer limited storage for \n",
    "music - certainly nothing to rival Apple's 60GB iPod. But the first mobile phones with hard disk players will be on the market soon and the \n",
    "current generation of mobiles using flash technology can store up to one gigabyte of music - enough for 250 songs. \"We are working in the hard \n",
    "disk area and we will be bringing out exciting devices,\" Jonas Guest, vice president for entertainment at Nokia, told the BBC News website. But \n",
    "will mobiles become mere storage devices? \"One of the problems we could have is that mobiles are used just for storage and playback while PCs \n",
    "are used for downloading,\" said Mr Babinet  \"We don't want people to cast aside their PCs - we want mobile users to hook up into the existing \n",
    "ecosystems,\" explained Mr Guest. \"You must enable people to transfer music from a PC to a handset and vice versa.\"  One of the key elements of \n",
    "the Nokia and Microsoft deal is the agreed ability to transfer songs between a handset and a PC. Microsoft will adopt open standards allowing \n",
    "music to cross boundaries for the first time. Songs can be downloaded on PC or mobile and transferred between the platforms. \"The line between \n",
    "online and wireless is going to blur,\" predicted Ted Cohen, senior vice president of digital development and distribution at EMI. He said: \n",
    "\"The market is more regional in its maturity. In Asia it is beyond belief. \"The majority of our digital revenues in Asia comes from mobiles. \n",
    "In North America it is fixed line while there is equilibrium in Europe.\"  EMI currently offers its entire 200,000 download catalogue for use \n",
    "by both by PCs and mobile phones. Mr Cohen said: \"It's going to be just as important to connect through 3G or wireless as it is through your PC. \n",
    "\"We want music to be a continuum.\" The seamless experience of mobiles and PC downloads is approaching, he predicted. Mr Babinet said the mobile \n",
    "phone had a number of advantages over PCs which would see it become the focus for music downloading in the future. \"Getting music from your PC \n",
    "onto a device is not an easy experience. You have to switch the PC on, load the operating system, load the program, buy the music, download the \n",
    "music, and then transfer the music. \"All of these steps can be done in one step on a mobile phone.\" He said the mobile phone's billing system \n",
    "would make it easier for teenagers to embrace downloads, because pre-paid cards were already accepted by the age group.  \"Certainly, we have a \n",
    "problem with battery, memory and bandwidth. But it's not about the current status. It's about the potential. \"You will have all of your music \n",
    "on your mobile.\" All three men said that the social interaction of mobile music would drive the market. Mr Cohen said: \"I can send you the song \n",
    "and it is either billed to me or I send it to you and if you listen to it and want to keep, it is billed to you. \"It's a social phenomenon.\" \n",
    "Mr Babinet said: \"Today you use radio and TV to discover music. Tomorrow you will discover and consume music via one device - the mobile.\"'''\n",
    "\n",
    "summary2 = '''\"You will have all of your music on your mobile.\"Gilles Babinet, chief executive of mobile music firm Musiwave, said: \"Music \n",
    "downloads on mobiles have the potential to be the biggest-ever medium for music.\"All three men said that the social interaction of mobile \n",
    "music would drive the market.But the first mobile phones with hard disk players will be on the market soon and the current generation of \n",
    "mobiles using flash technology can store up to one gigabyte of music - enough for 250 songs.Mr Babinet said the mobile phone had a number \n",
    "of advantages over PCs which would see it become the focus for music downloading in the future.Full-length music downloads on mobile phones \n",
    "have not taken off so quickly - held back by technical challenges as well as issues over music availability.Tomorrow you will discover and \n",
    "consume music via one device - the mobile.\"Mobile phones offer limited storage for music - certainly nothing to rival Apple's 60GB iPod. You \n",
    "have to switch the PC on, load the operating system, load the program, buy the music, download the music, and then transfer the music.But \n",
    "the mobile music industry is confident that the days of dedicated MP3 players are numbered.\"One of the problems we could have is that mobiles \n",
    "are used just for storage and playback while PCs are used for downloading,\" said Mr Babinet  \"We don't want people to cast aside their PCs - \n",
    "we want mobile users to hook up into the existing ecosystems,\" explained Mr Guest.Mr Babinet said: \"Today you use radio and TV to discover music.\n",
    "Musiwave provides downloading infrastructure for the mobile phone market and Mr Babinet said the industry was enjoying \"definite momentum.\"\"We \n",
    "want music to be a continuum.\"Can mobile phones replace the MP3 player in your pocket?The seamless experience of mobiles and PC downloads is \n",
    "approaching, he predicted.\"You must enable people to transfer music from a PC to a handset and vice versa.\"'''\n",
    "\n",
    "bleu_metric.add(prediction=article2, reference = [summary2]) # Find another example from the eval set\n",
    "results = bleu_metric.compute(smooth_method=\"floor\", smooth_value=0)\n",
    "results['precisions'] =  [np.round(p, 2) for p in results[\"precisions\"]]\n",
    "pd.DataFrame.from_dict(results, orient=\"index\", columns=[\"Value\"])"
   ]
  }
 ],
 "metadata": {
  "kernelspec": {
   "display_name": "Python 3.9.12 ('nlp_ch4')",
   "language": "python",
   "name": "python3"
  },
  "language_info": {
   "codemirror_mode": {
    "name": "ipython",
    "version": 3
   },
   "file_extension": ".py",
   "mimetype": "text/x-python",
   "name": "python",
   "nbconvert_exporter": "python",
   "pygments_lexer": "ipython3",
   "version": "3.9.12"
  },
  "orig_nbformat": 4,
  "vscode": {
   "interpreter": {
    "hash": "a52fe47989fdc78fafbb981021cec52a6b82df6453830b9ffbd04250493e6cab"
   }
  }
 },
 "nbformat": 4,
 "nbformat_minor": 2
}
