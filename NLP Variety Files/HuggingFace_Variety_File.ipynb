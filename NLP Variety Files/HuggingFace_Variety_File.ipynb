{
 "cells": [
  {
   "cell_type": "markdown",
   "metadata": {},
   "source": [
    "## Variety FIle Using Various Transformers & HuggingFace API"
   ]
  },
  {
   "cell_type": "markdown",
   "metadata": {},
   "source": [
    "#### Import Necessary Libraries"
   ]
  },
  {
   "cell_type": "code",
   "execution_count": 1,
   "metadata": {},
   "outputs": [],
   "source": [
    "import pandas as pd\n",
    "from transformers import pipeline"
   ]
  },
  {
   "cell_type": "markdown",
   "metadata": {},
   "source": [
    "### Text Used for Summarization (Source: https://www.bbc.com/news/business-62446937)"
   ]
  },
  {
   "cell_type": "code",
   "execution_count": 2,
   "metadata": {},
   "outputs": [],
   "source": [
    "text_to_use = '''Two months later and Easyjet has confirmed that her luggage has been permanently lost. As headlines and social media posts around the world have shown in recent months, Ms Loucas's case is not unique, with some  calling it \"the summer of lost luggage\". The situation has been blamed on staff shortages both at the carriers, the airport security staff that have to scan all the checked-in luggage, and the ground handling firms that are typically employed to get all these suitcases and bags onto planes and then back to carousels.\n",
    "With many of these teams seeing redundancies during the pandemic, they now can't cope with the pent-up demand to go abroad on holiday again. It has led to images of hundreds of missing suitcases piled up in warehouses.\n",
    "And one insurance firm, Spain's Mapfre, said the number of passengers reporting missing luggage this summer was 30% higher than in 2019, the last year of normal travel before the pandemic. While no global estimates are yet available for the volume of delayed or lost luggage so far this year, data for 2019 shows that the problem has always existed.\n",
    "That year 19 million bags and suitcases were late arriving around the world, and 1.3 million were never seen again, according to an annual report by SITA, a provider of baggage software. To try to keep tabs on their items of luggage, a growing number of passengers are turning to technology. Apple has reportedly seen a rise in sales of its AirTag tracking device. The AirTag works by sending out a secure Bluetooth signal that can be detected by nearby devices in the Find My network. These devices send the AirTag's location to iCloud, allowing the user to go to the Find My app and see it on a map.\n",
    "In other words, you can see exactly where your missing suitcase is, via your smartphone or computer. Other travellers are attaching trackers that use GPS to their luggage. Yet while such tagging devices may give a passenger peace of mind, travel industry expert Eric Leopold says they don't solve the core issue - stopping the backlogs that prevent bags from catching the same flights as their owners.\n",
    "\"Tracking the bags is helpful when 99% arrive on time and 1% are mishandled, but when thousands of bags are stuck in London or elsewhere, the tags are not helping move the piles of bags,\" says Mr Leopold, who is the founder of Threedot.\n",
    "New Tech Economy is a series exploring how technological innovation is set to shape the new emerging economic landscape. SeeTrue is one company that hopes to help airports and airlines get luggage onto planes more efficiently in the first place. The Israeli firm makes software that can do the security scans on check-in luggage much faster than human security staff.\n",
    "\"SeeTrue uses artificial intelligence and computer vision algorithms to discover prohibited items in bags,\" says executive Assaf Frenkel. \"It connects to the existing X-ray and CT scanners, and detects in real-time, faster and more accurately than most human eyes, always on, and never getting tired or distracted.\n",
    "\"As a result, baggage is delivered on time to planes and not left behind.\" For UK tech firm AirPortr, its approach to tackling the problem is to remove the need for passengers to have to queue up at the airport to check in their luggage before their flight.\n",
    "Instead passengers can use its app and website to arrange for their luggage to be taken door-to-door. Currently available for British Airways and Swiss International Air Lines flights between London and Geneva, an AirPortr worker will pick up a person's suitcase from their home. This driver will then take it to the departure airport's luggage area in the bowels of the terminal building for check-in, rather than going into the departure lounge.\n",
    "Then at the destination airport, one of AirPortr's transportation partners will pick up the suitcases and deliver them to the person's destination address. Fees start from around £40 for one item of luggage, one way, if you don't mind your suitcase being picked up the day before you fly. But prices can be more than double that if you want your luggage collected during a specific one-hour slot on the day. The cost also rises the further you are from the airport. AirPortr's chief executive Randel Darby set up the firm in 2013, saying he was so frustrated that baggage was \"travelling in the same way we have done for almost a century of commercial aviation\". His aim is to expand the service around the world, and rather than just aiming it at business travellers, he hopes for it to ultimately become a \"utility\" service used by all types of holidaymakers.\n",
    "Mr Darby even believes that airlines and airport operators will start to subside people's use of AirPortr, because it is \"more cost effective than handling passengers checking in their luggage on-airport\". Yet despite such technical solutions, passengers also want airlines to employ a few more customer care workers.'''"
   ]
  },
  {
   "cell_type": "markdown",
   "metadata": {},
   "source": [
    "### Masked Language Modeling"
   ]
  },
  {
   "cell_type": "markdown",
   "metadata": {},
   "source": [
    "#### Example 1"
   ]
  },
  {
   "cell_type": "code",
   "execution_count": 3,
   "metadata": {},
   "outputs": [
    {
     "name": "stderr",
     "output_type": "stream",
     "text": [
      "NOTE: Redirects are currently not supported in Windows or MacOs.\n",
      "Some weights of the model checkpoint at bert-base-uncased were not used when initializing BertForMaskedLM: ['cls.seq_relationship.bias', 'cls.seq_relationship.weight']\n",
      "- This IS expected if you are initializing BertForMaskedLM from the checkpoint of a model trained on another task or with another architecture (e.g. initializing a BertForSequenceClassification model from a BertForPreTraining model).\n",
      "- This IS NOT expected if you are initializing BertForMaskedLM from the checkpoint of a model that you expect to be exactly identical (initializing a BertForSequenceClassification model from a BertForSequenceClassification model).\n"
     ]
    },
    {
     "name": "stdout",
     "output_type": "stream",
     "text": [
      "This lady works as a ____. ['maid', 'nurse', 'teacher', 'waitress', 'prostitute']\n"
     ]
    }
   ],
   "source": [
    "unmasker = pipeline('fill-mask', model=\"bert-base-uncased\")\n",
    "result = unmasker(\"This lady works as a [MASK].\")\n",
    "print(\"This lady works as a ____.\", end=' ')\n",
    "print([r[\"token_str\"] for r in result])"
   ]
  },
  {
   "cell_type": "markdown",
   "metadata": {},
   "source": [
    "#### Example 2"
   ]
  },
  {
   "cell_type": "code",
   "execution_count": 4,
   "metadata": {},
   "outputs": [
    {
     "name": "stdout",
     "output_type": "stream",
     "text": [
      "This gentleman works as a ____. ['carpenter', 'farmer', 'tailor', 'merchant', 'waiter']\n"
     ]
    }
   ],
   "source": [
    "result = unmasker(\"This gentleman works as a [MASK].\")\n",
    "print(\"This gentleman works as a ____.\", end=' ')\n",
    "print([r[\"token_str\"] for r in result])"
   ]
  },
  {
   "cell_type": "markdown",
   "metadata": {},
   "source": [
    "#### Example 3"
   ]
  },
  {
   "cell_type": "code",
   "execution_count": 5,
   "metadata": {},
   "outputs": [
    {
     "name": "stdout",
     "output_type": "stream",
     "text": [
      "The ___ are going to win the Super Bowl this year. ['patriots', 'steelers', 'cowboys', 'redskins', 'bills']\n"
     ]
    }
   ],
   "source": [
    "result2 = unmasker(\"The [MASK] are going to win the Super Bowl this year.\")\n",
    "print(\"The ___ are going to win the Super Bowl this year.\", end=' ')\n",
    "print([r[\"token_str\"] for r in result2])"
   ]
  },
  {
   "cell_type": "markdown",
   "metadata": {},
   "source": [
    "### Named Entity Recognition"
   ]
  },
  {
   "cell_type": "code",
   "execution_count": 6,
   "metadata": {},
   "outputs": [
    {
     "name": "stderr",
     "output_type": "stream",
     "text": [
      "No model was supplied, defaulted to dbmdz/bert-large-cased-finetuned-conll03-english and revision f2482bf (https://huggingface.co/dbmdz/bert-large-cased-finetuned-conll03-english).\n",
      "Using a pipeline without specifying a model name and revision in production is not recommended.\n"
     ]
    },
    {
     "data": {
      "text/html": [
       "<div>\n",
       "<style scoped>\n",
       "    .dataframe tbody tr th:only-of-type {\n",
       "        vertical-align: middle;\n",
       "    }\n",
       "\n",
       "    .dataframe tbody tr th {\n",
       "        vertical-align: top;\n",
       "    }\n",
       "\n",
       "    .dataframe thead th {\n",
       "        text-align: right;\n",
       "    }\n",
       "</style>\n",
       "<table border=\"1\" class=\"dataframe\">\n",
       "  <thead>\n",
       "    <tr style=\"text-align: right;\">\n",
       "      <th></th>\n",
       "      <th>entity_group</th>\n",
       "      <th>score</th>\n",
       "      <th>word</th>\n",
       "      <th>start</th>\n",
       "      <th>end</th>\n",
       "    </tr>\n",
       "  </thead>\n",
       "  <tbody>\n",
       "    <tr>\n",
       "      <th>0</th>\n",
       "      <td>ORG</td>\n",
       "      <td>0.997742</td>\n",
       "      <td>Easyjet</td>\n",
       "      <td>21</td>\n",
       "      <td>28</td>\n",
       "    </tr>\n",
       "    <tr>\n",
       "      <th>1</th>\n",
       "      <td>PER</td>\n",
       "      <td>0.996330</td>\n",
       "      <td>Loucas</td>\n",
       "      <td>172</td>\n",
       "      <td>178</td>\n",
       "    </tr>\n",
       "    <tr>\n",
       "      <th>2</th>\n",
       "      <td>LOC</td>\n",
       "      <td>0.999744</td>\n",
       "      <td>Spain</td>\n",
       "      <td>774</td>\n",
       "      <td>779</td>\n",
       "    </tr>\n",
       "    <tr>\n",
       "      <th>3</th>\n",
       "      <td>ORG</td>\n",
       "      <td>0.980514</td>\n",
       "      <td>Mapfre</td>\n",
       "      <td>782</td>\n",
       "      <td>788</td>\n",
       "    </tr>\n",
       "    <tr>\n",
       "      <th>4</th>\n",
       "      <td>ORG</td>\n",
       "      <td>0.998437</td>\n",
       "      <td>SITA</td>\n",
       "      <td>1249</td>\n",
       "      <td>1253</td>\n",
       "    </tr>\n",
       "    <tr>\n",
       "      <th>5</th>\n",
       "      <td>ORG</td>\n",
       "      <td>0.996588</td>\n",
       "      <td>Apple</td>\n",
       "      <td>1392</td>\n",
       "      <td>1397</td>\n",
       "    </tr>\n",
       "    <tr>\n",
       "      <th>6</th>\n",
       "      <td>MISC</td>\n",
       "      <td>0.842625</td>\n",
       "      <td>AirTag</td>\n",
       "      <td>1441</td>\n",
       "      <td>1447</td>\n",
       "    </tr>\n",
       "    <tr>\n",
       "      <th>7</th>\n",
       "      <td>MISC</td>\n",
       "      <td>0.970572</td>\n",
       "      <td>Air</td>\n",
       "      <td>1469</td>\n",
       "      <td>1472</td>\n",
       "    </tr>\n",
       "    <tr>\n",
       "      <th>8</th>\n",
       "      <td>ORG</td>\n",
       "      <td>0.490607</td>\n",
       "      <td>##T</td>\n",
       "      <td>1472</td>\n",
       "      <td>1473</td>\n",
       "    </tr>\n",
       "    <tr>\n",
       "      <th>9</th>\n",
       "      <td>MISC</td>\n",
       "      <td>0.948844</td>\n",
       "      <td>##ag</td>\n",
       "      <td>1473</td>\n",
       "      <td>1475</td>\n",
       "    </tr>\n",
       "    <tr>\n",
       "      <th>10</th>\n",
       "      <td>MISC</td>\n",
       "      <td>0.958456</td>\n",
       "      <td>Blue</td>\n",
       "      <td>1506</td>\n",
       "      <td>1510</td>\n",
       "    </tr>\n",
       "    <tr>\n",
       "      <th>11</th>\n",
       "      <td>ORG</td>\n",
       "      <td>0.886994</td>\n",
       "      <td>Find My</td>\n",
       "      <td>1569</td>\n",
       "      <td>1576</td>\n",
       "    </tr>\n",
       "    <tr>\n",
       "      <th>12</th>\n",
       "      <td>MISC</td>\n",
       "      <td>0.672510</td>\n",
       "      <td>Air</td>\n",
       "      <td>1609</td>\n",
       "      <td>1612</td>\n",
       "    </tr>\n",
       "    <tr>\n",
       "      <th>13</th>\n",
       "      <td>ORG</td>\n",
       "      <td>0.608898</td>\n",
       "      <td>##T</td>\n",
       "      <td>1612</td>\n",
       "      <td>1613</td>\n",
       "    </tr>\n",
       "    <tr>\n",
       "      <th>14</th>\n",
       "      <td>MISC</td>\n",
       "      <td>0.788190</td>\n",
       "      <td>##ag</td>\n",
       "      <td>1613</td>\n",
       "      <td>1615</td>\n",
       "    </tr>\n",
       "    <tr>\n",
       "      <th>15</th>\n",
       "      <td>ORG</td>\n",
       "      <td>0.810266</td>\n",
       "      <td>iCloud</td>\n",
       "      <td>1630</td>\n",
       "      <td>1636</td>\n",
       "    </tr>\n",
       "    <tr>\n",
       "      <th>16</th>\n",
       "      <td>ORG</td>\n",
       "      <td>0.911185</td>\n",
       "      <td>Find My</td>\n",
       "      <td>1669</td>\n",
       "      <td>1676</td>\n",
       "    </tr>\n",
       "    <tr>\n",
       "      <th>17</th>\n",
       "      <td>LOC</td>\n",
       "      <td>0.992544</td>\n",
       "      <td>London</td>\n",
       "      <td>2221</td>\n",
       "      <td>2227</td>\n",
       "    </tr>\n",
       "  </tbody>\n",
       "</table>\n",
       "</div>"
      ],
      "text/plain": [
       "   entity_group     score     word  start   end\n",
       "0           ORG  0.997742  Easyjet     21    28\n",
       "1           PER  0.996330   Loucas    172   178\n",
       "2           LOC  0.999744    Spain    774   779\n",
       "3           ORG  0.980514   Mapfre    782   788\n",
       "4           ORG  0.998437     SITA   1249  1253\n",
       "5           ORG  0.996588    Apple   1392  1397\n",
       "6          MISC  0.842625   AirTag   1441  1447\n",
       "7          MISC  0.970572      Air   1469  1472\n",
       "8           ORG  0.490607      ##T   1472  1473\n",
       "9          MISC  0.948844     ##ag   1473  1475\n",
       "10         MISC  0.958456     Blue   1506  1510\n",
       "11          ORG  0.886994  Find My   1569  1576\n",
       "12         MISC  0.672510      Air   1609  1612\n",
       "13          ORG  0.608898      ##T   1612  1613\n",
       "14         MISC  0.788190     ##ag   1613  1615\n",
       "15          ORG  0.810266   iCloud   1630  1636\n",
       "16          ORG  0.911185  Find My   1669  1676\n",
       "17          LOC  0.992544   London   2221  2227"
      ]
     },
     "execution_count": 6,
     "metadata": {},
     "output_type": "execute_result"
    }
   ],
   "source": [
    "ner_tagger = pipeline(\"ner\", aggregation_strategy='simple')\n",
    "outputs = ner_tagger(text_to_use)\n",
    "pd.DataFrame(outputs)"
   ]
  },
  {
   "cell_type": "markdown",
   "metadata": {},
   "source": [
    "### Text Classification"
   ]
  },
  {
   "cell_type": "code",
   "execution_count": 7,
   "metadata": {},
   "outputs": [
    {
     "name": "stderr",
     "output_type": "stream",
     "text": [
      "No model was supplied, defaulted to distilbert-base-uncased-finetuned-sst-2-english and revision af0f99b (https://huggingface.co/distilbert-base-uncased-finetuned-sst-2-english).\n",
      "Using a pipeline without specifying a model name and revision in production is not recommended.\n"
     ]
    },
    {
     "data": {
      "text/html": [
       "<div>\n",
       "<style scoped>\n",
       "    .dataframe tbody tr th:only-of-type {\n",
       "        vertical-align: middle;\n",
       "    }\n",
       "\n",
       "    .dataframe tbody tr th {\n",
       "        vertical-align: top;\n",
       "    }\n",
       "\n",
       "    .dataframe thead th {\n",
       "        text-align: right;\n",
       "    }\n",
       "</style>\n",
       "<table border=\"1\" class=\"dataframe\">\n",
       "  <thead>\n",
       "    <tr style=\"text-align: right;\">\n",
       "      <th></th>\n",
       "      <th>label</th>\n",
       "      <th>score</th>\n",
       "    </tr>\n",
       "  </thead>\n",
       "  <tbody>\n",
       "    <tr>\n",
       "      <th>0</th>\n",
       "      <td>POSITIVE</td>\n",
       "      <td>0.999357</td>\n",
       "    </tr>\n",
       "  </tbody>\n",
       "</table>\n",
       "</div>"
      ],
      "text/plain": [
       "      label     score\n",
       "0  POSITIVE  0.999357"
      ]
     },
     "execution_count": 7,
     "metadata": {},
     "output_type": "execute_result"
    }
   ],
   "source": [
    "classifier = pipeline(\"text-classification\")\n",
    "\n",
    "clf_text = \"The sun will come out tomorrow!\"\n",
    "\n",
    "output = classifier(clf_text)\n",
    "pd.DataFrame(output)"
   ]
  },
  {
   "cell_type": "markdown",
   "metadata": {},
   "source": [
    "### Text Summarization"
   ]
  },
  {
   "cell_type": "code",
   "execution_count": 8,
   "metadata": {},
   "outputs": [
    {
     "name": "stderr",
     "output_type": "stream",
     "text": [
      "No model was supplied, defaulted to sshleifer/distilbart-cnn-12-6 and revision a4f8f3e (https://huggingface.co/sshleifer/distilbart-cnn-12-6).\n",
      "Using a pipeline without specifying a model name and revision in production is not recommended.\n"
     ]
    },
    {
     "name": "stdout",
     "output_type": "stream",
     "text": [
      "The Summary is:  [{'summary_text': ' Staff shortages blamed on staff shortages at airports and ground handling firms. Airportr app and website AirPortr allows passengers to arrange for luggage to be picked up door-to-door. SeeTrue is one company that hopes to help airports and airlines get luggage onto planes more efficiently.'}]\n"
     ]
    }
   ],
   "source": [
    "summarizer = pipeline(\"summarization\")\n",
    "summary = summarizer(text_to_use, max_length=75, clean_up_tokenization_spaces=True)\n",
    "print(\"The Summary is: \", summary)"
   ]
  }
 ],
 "metadata": {
  "kernelspec": {
   "display_name": "Python 3.9.12 ('nlp_projects')",
   "language": "python",
   "name": "python3"
  },
  "language_info": {
   "codemirror_mode": {
    "name": "ipython",
    "version": 3
   },
   "file_extension": ".py",
   "mimetype": "text/x-python",
   "name": "python",
   "nbconvert_exporter": "python",
   "pygments_lexer": "ipython3",
   "version": "3.9.12"
  },
  "orig_nbformat": 4,
  "vscode": {
   "interpreter": {
    "hash": "fc72b274efffb8cc120df26a7300ddf89b50ec5391b64e9e8132c8a950ce965e"
   }
  }
 },
 "nbformat": 4,
 "nbformat_minor": 2
}
